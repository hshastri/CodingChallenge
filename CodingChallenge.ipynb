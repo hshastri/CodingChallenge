{
  "nbformat": 4,
  "nbformat_minor": 0,
  "metadata": {
    "colab": {
      "provenance": [],
      "authorship_tag": "ABX9TyMiW3cf3e37fZ2DwmQFBEYD",
      "include_colab_link": true
    },
    "kernelspec": {
      "name": "python3",
      "display_name": "Python 3"
    },
    "language_info": {
      "name": "python"
    }
  },
  "cells": [
    {
      "cell_type": "markdown",
      "metadata": {
        "id": "view-in-github",
        "colab_type": "text"
      },
      "source": [
        "<a href=\"https://colab.research.google.com/github/hshastri/CodingChallenge/blob/main/CodingChallenge.ipynb\" target=\"_parent\"><img src=\"https://colab.research.google.com/assets/colab-badge.svg\" alt=\"Open In Colab\"/></a>"
      ]
    },
    {
      "cell_type": "code",
      "execution_count": 4,
      "metadata": {
        "id": "aCKYoJpVFkch"
      },
      "outputs": [],
      "source": [
        "def sort(width, height, length, mass):\n",
        "    volume = width * height * length\n",
        "\n",
        "    # Check if the package is bulky\n",
        "    if volume >= 1_000_000 or width >= 150 or height >= 150 or length >= 150:\n",
        "        is_bulky = True\n",
        "    else:\n",
        "        is_bulky = False\n",
        "\n",
        "    # Check if the package is heavy\n",
        "    if mass >= 20:\n",
        "        is_heavy = True\n",
        "    else:\n",
        "        is_heavy = False\n",
        "\n",
        "    # Determine the category based on bulkiness and heaviness\n",
        "    if is_bulky and is_heavy:\n",
        "        return \"REJECTED\"\n",
        "    elif is_bulky or is_heavy:\n",
        "        return \"SPECIAL\"\n",
        "    else:\n",
        "        return \"STANDARD\"\n",
        "\n",
        "def test_standard_package():\n",
        "    assert sort(100, 100, 99, 10) == \"STANDARD\"\n",
        "    print(\"test_standard_package passed\")\n",
        "\n",
        "def test_bulky_only():\n",
        "    assert sort(200, 50, 40, 10) == \"SPECIAL\"  # One dimension ≥ 150\n",
        "    print(\"test_bulky_only passed\")\n",
        "\n",
        "def test_heavy_only():\n",
        "    assert sort(50, 50, 50, 25) == \"SPECIAL\"  # mass ≥ 20\n",
        "    print(\"test_heavy_only passed\")\n",
        "\n",
        "def test_rejected_package():\n",
        "    assert sort(200, 200, 50, 25) == \"REJECTED\"  # bulky and heavy\n",
        "    print(\"test_rejected_package passed\")\n",
        "\n",
        "def test_volume_bulky():\n",
        "    assert sort(100, 100, 100, 10) == \"SPECIAL\"  # volume = 1,000,000\n"
      ]
    },
    {
      "cell_type": "code",
      "source": [
        "test_standard_package()\n",
        "test_bulky_only()\n",
        "test_heavy_only()\n",
        "test_rejected_package()\n",
        "test_volume_bulky()"
      ],
      "metadata": {
        "colab": {
          "base_uri": "https://localhost:8080/"
        },
        "id": "hNUr-WAfFtRH",
        "outputId": "2184e196-5696-4419-e55e-3a3909d1d2a4"
      },
      "execution_count": 5,
      "outputs": [
        {
          "output_type": "stream",
          "name": "stdout",
          "text": [
            "test_standard_package passed\n",
            "test_bulky_only passed\n",
            "test_heavy_only passed\n",
            "test_rejected_package passed\n"
          ]
        }
      ]
    },
    {
      "cell_type": "code",
      "source": [],
      "metadata": {
        "id": "wsKnGK1vFvwU"
      },
      "execution_count": null,
      "outputs": []
    }
  ]
}